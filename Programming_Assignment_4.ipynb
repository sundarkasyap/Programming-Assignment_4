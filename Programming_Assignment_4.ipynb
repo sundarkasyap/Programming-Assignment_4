{
  "nbformat": 4,
  "nbformat_minor": 0,
  "metadata": {
    "colab": {
      "provenance": []
    },
    "kernelspec": {
      "name": "python3",
      "display_name": "Python 3"
    },
    "language_info": {
      "name": "python"
    }
  },
  "cells": [
    {
      "cell_type": "code",
      "source": [
        "#1\n",
        "number = int(input('enter your number :'))\n",
        "\n",
        "fact= 1\n",
        "\n",
        "if number<0 :\n",
        "  print('factorial is not defined for negative numbers')\n",
        "elif number == 0:\n",
        "  print(f'the facturial {number} is 1')\n",
        "else :\n",
        "  for i in range(1,number+1):\n",
        "    fact*=i\n",
        "  print(f'the factorial of {number} is {fact}')"
      ],
      "metadata": {
        "colab": {
          "base_uri": "https://localhost:8080/"
        },
        "id": "yrOMkx8GKR1L",
        "outputId": "c4b4898f-cfe9-4698-f300-614c146b9122"
      },
      "execution_count": 4,
      "outputs": [
        {
          "output_type": "stream",
          "name": "stdout",
          "text": [
            "enter your number :7\n",
            "the factorial of 7 is 5040\n"
          ]
        }
      ]
    },
    {
      "cell_type": "code",
      "source": [
        "#2\n",
        "\n",
        "number = int(input('enter your number :'))\n",
        "\n",
        "for i in range(1,11):\n",
        "  rel=number*i\n",
        "\n",
        "  print(f'{number}*{i}={rel}')"
      ],
      "metadata": {
        "colab": {
          "base_uri": "https://localhost:8080/"
        },
        "id": "uuXQvBtgNhuH",
        "outputId": "1b9a5aa5-a6a3-4b03-da54-5c1ce3f9abd7"
      },
      "execution_count": 5,
      "outputs": [
        {
          "output_type": "stream",
          "name": "stdout",
          "text": [
            "enter your number :9\n",
            "9*1=9\n",
            "9*2=18\n",
            "9*3=27\n",
            "9*4=36\n",
            "9*5=45\n",
            "9*6=54\n",
            "9*7=63\n",
            "9*8=72\n",
            "9*9=81\n",
            "9*10=90\n"
          ]
        }
      ]
    },
    {
      "cell_type": "code",
      "source": [
        "#3\n",
        "fibonacci_seq = [0, 1]\n",
        "\n",
        "n = int(input(\"Enter the range for Fibonacci sequence: \"))\n",
        "\n",
        "\n",
        "for i in range(2, n):\n",
        "    next_fibonacci = fibonacci_seq[-1] + fibonacci_seq[-2]\n",
        "    fibonacci_seq.append(next_fibonacci)\n",
        "\n",
        "print(fibonacci_seq)\n"
      ],
      "metadata": {
        "colab": {
          "base_uri": "https://localhost:8080/"
        },
        "id": "oz31sMSRX6B1",
        "outputId": "19a9c4ea-033c-4b40-fa87-eb40af9eedc0"
      },
      "execution_count": 3,
      "outputs": [
        {
          "output_type": "stream",
          "name": "stdout",
          "text": [
            "Enter the number of terms in the Fibonacci sequence: 6\n",
            "[0, 1, 1, 2, 3, 5]\n"
          ]
        }
      ]
    },
    {
      "cell_type": "code",
      "source": [
        "#4\n",
        "n= str(input('enter your number '))\n",
        "sum =0\n",
        "\n",
        "for i in n:\n",
        "  sum = sum + int(i)**len(n)\n",
        "\n",
        "if int(n)== sum :\n",
        "  print(f'{n} is a armstrong number ')\n",
        "else :\n",
        "  print(f'{n} is not a armstrong number')"
      ],
      "metadata": {
        "colab": {
          "base_uri": "https://localhost:8080/"
        },
        "id": "t6znJZ018vpl",
        "outputId": "3fc35549-305b-4b0e-ad95-40eadca7e37f"
      },
      "execution_count": 8,
      "outputs": [
        {
          "output_type": "stream",
          "name": "stdout",
          "text": [
            "enter your number 407\n",
            "407 is a armstrong number \n"
          ]
        }
      ]
    },
    {
      "cell_type": "code",
      "source": [
        "#5\n",
        "a= int(input('enter your low value interval: '))\n",
        "b= int(input('enter your upper value interval: '))\n",
        "\n",
        "sum=0\n",
        "\n",
        "l1=[]\n",
        "l2=[]\n",
        "\n",
        "sum=0\n",
        "\n",
        "\n",
        "for n in range(a,b+1):\n",
        "  sum=0\n",
        "\n",
        "  for i in str(n):\n",
        "    sum = sum + int(i)**len(str(n))\n",
        "\n",
        "  if n == sum :\n",
        "    l1.append(n)\n",
        "\n",
        "  else :\n",
        "    l2.append(n)\n",
        "\n",
        "\n",
        "print('list of armstrong number is  ',l1)\n",
        "print('list of non armstrong number is  ',l2)\n",
        "\n",
        "\n",
        ""
      ],
      "metadata": {
        "colab": {
          "base_uri": "https://localhost:8080/"
        },
        "id": "vQFnXjPC9ZCJ",
        "outputId": "ef07cfa4-dde6-464c-cf48-b9716791f4dc"
      },
      "execution_count": 21,
      "outputs": [
        {
          "output_type": "stream",
          "name": "stdout",
          "text": [
            "enter your low value interval: 1630\n",
            "enter your upper value interval: 1637\n",
            "list of armstrong number is   [1634]\n",
            "list of non armstrong number is   [1630, 1631, 1632, 1633, 1635, 1636, 1637]\n"
          ]
        }
      ]
    },
    {
      "cell_type": "code",
      "source": [
        "#6\n",
        "def ast():\n",
        "  a= int(input('enter your low value interval: '))\n",
        "  b= int(input('enter your upper value interval: '))\n",
        "\n",
        "  sum=0\n",
        "\n",
        "  l1=[]\n",
        "  l2=[]\n",
        "\n",
        "  sum=0\n",
        "\n",
        "\n",
        "  for n in range(a,b+1):\n",
        "    sum=0\n",
        "\n",
        "    for i in str(n):\n",
        "      sum = sum + int(i)**len(str(n))\n",
        "\n",
        "    if n == sum :\n",
        "      l1.append(n)\n",
        "\n",
        "    else :\n",
        "      l2.append(n)\n",
        "\n",
        "  return ('list of armstrong number is  ',l1),('list of non armstrong number is  ',l2)\n",
        "\n",
        "\n",
        ""
      ],
      "metadata": {
        "id": "Ewg5N-Yadc3q"
      },
      "execution_count": 29,
      "outputs": []
    },
    {
      "cell_type": "code",
      "source": [
        "ast()"
      ],
      "metadata": {
        "colab": {
          "base_uri": "https://localhost:8080/"
        },
        "id": "dEv0mbXwdfkY",
        "outputId": "0eee644b-63cc-40a4-f136-e1f31cf4e48a"
      },
      "execution_count": 31,
      "outputs": [
        {
          "name": "stdout",
          "output_type": "stream",
          "text": [
            "enter your low value interval: 405\n",
            "enter your upper value interval: 407\n"
          ]
        },
        {
          "output_type": "execute_result",
          "data": {
            "text/plain": [
              "(('list of armstrong number is  ', [407]),\n",
              " ('list of non armstrong number is  ', [405, 406]))"
            ]
          },
          "metadata": {},
          "execution_count": 31
        }
      ]
    },
    {
      "cell_type": "code",
      "source": [
        "def sum_nat():\n",
        "  a= int(input('enter your low value interval: '))\n",
        "  b=int(input('enter your upper value interval: '))\n",
        "\n",
        "  if a>0 :\n",
        "    x=a\n",
        "    y=0\n",
        "    while x <b+1:\n",
        "      y=x+y\n",
        "      x=x+1\n",
        "\n",
        "    return y\n",
        "  else :\n",
        "    return 'its not a natural number'\n"
      ],
      "metadata": {
        "id": "JuqsrKUthOUq"
      },
      "execution_count": 46,
      "outputs": []
    },
    {
      "cell_type": "code",
      "source": [
        "sum_nat()"
      ],
      "metadata": {
        "colab": {
          "base_uri": "https://localhost:8080/",
          "height": 71
        },
        "id": "NjfhTopTmrAE",
        "outputId": "0a1c8907-e0d6-4910-916c-2030efb27608"
      },
      "execution_count": 48,
      "outputs": [
        {
          "name": "stdout",
          "output_type": "stream",
          "text": [
            "enter your low value interval: 0\n",
            "enter your upper value interval: 19\n"
          ]
        },
        {
          "output_type": "execute_result",
          "data": {
            "text/plain": [
              "'its not a natural number'"
            ],
            "application/vnd.google.colaboratory.intrinsic+json": {
              "type": "string"
            }
          },
          "metadata": {},
          "execution_count": 48
        }
      ]
    },
    {
      "cell_type": "code",
      "source": [],
      "metadata": {
        "id": "rFmcxwocmtVe"
      },
      "execution_count": null,
      "outputs": []
    }
  ]
}